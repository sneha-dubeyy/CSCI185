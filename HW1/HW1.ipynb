{
 "cells": [
  {
   "cell_type": "code",
   "execution_count": 1,
   "id": "fbe3487f",
   "metadata": {},
   "outputs": [],
   "source": [
    "# Sneha Dubey (W1618643)\n",
    "# Chen\n",
    "# CSCI 185\n",
    "# 21 January 2024\n",
    "# Homework 1 Code"
   ]
  },
  {
   "cell_type": "code",
   "execution_count": 2,
   "id": "e14d8d1b",
   "metadata": {},
   "outputs": [],
   "source": [
    "import pandas as pd\n",
    "import json\n",
    "import os"
   ]
  },
  {
   "cell_type": "code",
   "execution_count": 3,
   "id": "37df7a53",
   "metadata": {},
   "outputs": [
    {
     "name": "stdout",
     "output_type": "stream",
     "text": [
      "[1, 2, 3, 4, 5]\n"
     ]
    }
   ],
   "source": [
    "# Task 1: Define Function\n",
    "\n",
    "def task1():\n",
    "    items = [1, 2, 3, 4, 5]\n",
    "    print(items)\n",
    "\n",
    "#Test\n",
    "task1()"
   ]
  },
  {
   "cell_type": "code",
   "execution_count": 4,
   "id": "1dced53d",
   "metadata": {},
   "outputs": [
    {
     "name": "stdout",
     "output_type": "stream",
     "text": [
      "['1', ' ', '2', ' ', '3', ' ', '4', ' ', '5', ' ']\n",
      "['6', ' ', '7', ' ', '8', ' ', '9', ' ', '10']\n"
     ]
    }
   ],
   "source": [
    "# Task 2: File Reading\n",
    "\n",
    "def task2():\n",
    "    data =  open('task2.data', \"r\").read()\n",
    "    items1 = []\n",
    "    items2 = []\n",
    "    \n",
    "    for i in range (0,10):\n",
    "        if data[i] == ',':\n",
    "            continue\n",
    "        items1.append(data[i])\n",
    "    for j in range (10,20):\n",
    "        if data[j] == ',':\n",
    "            continue\n",
    "        if data[j] == '1':\n",
    "            num = '10'\n",
    "            items2.append(num)\n",
    "            break\n",
    "        items2.append(data[j])\n",
    "    \n",
    "    print(items1)\n",
    "    print(items2)\n",
    "    \n",
    "#Test\n",
    "task2()"
   ]
  },
  {
   "cell_type": "code",
   "execution_count": 5,
   "id": "fceceba2",
   "metadata": {},
   "outputs": [
    {
     "name": "stdout",
     "output_type": "stream",
     "text": [
      "school :  UAlbany\n",
      "address :  1400 Washington Ave, Albany, NY 12222\n",
      "phone :  (518) 442-3300\n"
     ]
    }
   ],
   "source": [
    "# Task 3: Data Structure\n",
    "\n",
    "def task3():\n",
    "    data = {'school': 'UAlbany', 'address': '1400 Washington Ave, Albany, NY 12222', 'phone': '(518) 442-3300'}\n",
    "    for key, value in data.items():\n",
    "        print(key, ': ', value)\n",
    "\n",
    "# Test\n",
    "task3()"
   ]
  },
  {
   "cell_type": "code",
   "execution_count": 6,
   "id": "4bccfb26",
   "metadata": {},
   "outputs": [
    {
     "name": "stdout",
     "output_type": "stream",
     "text": [
      "Items: \n",
      " dict_items([('school', 'UAlbany'), ('address', '1400 Washington Ave, Albany, NY 12222'), ('phone', '(518) 442-3300')]) \n",
      "\n",
      "Keys: \n",
      " dict_keys(['school', 'address', 'phone']) \n",
      "\n",
      "Values: \n",
      " dict_values(['UAlbany', '1400 Washington Ave, Albany, NY 12222', '(518) 442-3300']) \n",
      "\n"
     ]
    }
   ],
   "source": [
    "# Task 4: Data Serialisation\n",
    "\n",
    "def task4():\n",
    "    data = {'school': 'UAlbany', 'address': '1400 Washington Ave, Albany, NY 12222', 'phone': '(518) 442-3300'}\n",
    "    with open(\"task4.json\", 'w') as outp:\n",
    "        json.dump(data, outp)\n",
    "    \n",
    "    with open('task4.json') as inp:\n",
    "        data2 = json.load(inp)\n",
    "    \n",
    "    print(\"Items:\", \"\\n\", data2.items(), \"\\n\")\n",
    "    print(\"Keys:\", \"\\n\", data2.keys(), \"\\n\")\n",
    "    print(\"Values:\", \"\\n\", data2.values(), \"\\n\")\n",
    "\n",
    "# Test\n",
    "task4()"
   ]
  },
  {
   "cell_type": "code",
   "execution_count": 7,
   "id": "ddf6f0af",
   "metadata": {},
   "outputs": [
    {
     "name": "stdout",
     "output_type": "stream",
     "text": [
      "[1, 2, 3, 4, 5] \n",
      "\n",
      "{'school': 'UAlbany', 'address': '1400 Washington Ave, Albany, NY 12222', 'phone': '(518) 442-3300'}\n"
     ]
    }
   ],
   "source": [
    "# Task 5: Data Serialisation\n",
    "import pickle\n",
    "\n",
    "def task5():\n",
    "    items = [1,2,3,4,5]\n",
    "    data = {'school': 'UAlbany', 'address': '1400 Washington Ave, Albany, NY 12222', 'phone': '(518) 442-3300'}\n",
    "    \n",
    "    with open(\"task5.data\", 'wb') as outp:\n",
    "        pickle.dump(items, outp)\n",
    "        pickle.dump(data, outp)\n",
    "   \n",
    "    with open('task5.data', 'rb') as inp:\n",
    "        items2 = pickle.load(inp)\n",
    "        data2 = pickle.load(inp)\n",
    "    \n",
    "    print(items2, '\\n')\n",
    "    print(data2)\n",
    "\n",
    "# Test\n",
    "task5()"
   ]
  },
  {
   "cell_type": "code",
   "execution_count": 8,
   "id": "7a21e3b3",
   "metadata": {},
   "outputs": [
    {
     "name": "stdout",
     "output_type": "stream",
     "text": [
      "[429129916446031872, 429117247307923456, 429315798893461505, 429079910091476992, 429030956888899584, 429152645702352896, 429016075921940481, 428898232690044928, 428956892602191873, 429111068368326656, 429167217976958976, 429379822314614785, 429235096919359488, 428986795586383872, 429238790310203392, 429509723516194817, 429509617756811264, 429509135437017089, 429509033045659648, 429508763708817408, 429508217303875584, 429508122604883969, 429507949934157824, 429507930975510528, 429507700716613632, 429507388056412160, 429507387393703936, 429507291763576832, 429506469214437376, 429506433801924608, 429506012626702336, 429505339621662720, 429505236148174848, 429505189544878081, 429505128605818880, 429505116433956864, 429504618939158528, 429503319321493504, 429503199959986177, 429502545145237504, 429502437460680704, 429502289481449472, 429502207763836929, 429502122015481856, 429501723934461952, 429501695442186240, 429501574805585920, 429501521940598784, 429501272786354176, 429501173670739968, 429500659553931264, 429500626821996544, 429500250303111168, 429499974507061248, 429499957083897856, 429499927874789376, 429499891593658368, 429499566778351616, 429499480954531841, 429499000081760256, 429498405837369344, 429498397167734784, 429497948267765760, 429497921277415426, 429497098531115008, 429496907191181312, 429496260790206467, 429496119207272448, 429495848548847616, 429495195319951361, 429495172859060224, 429494325622222848, 429493745243799552, 429493724763389953, 429493689216679936, 429493026323300352, 429492585606807552, 429492578195472384, 429492510801420288, 429492212674478080, 429491944268374016, 429491406961250305, 429490875685556224, 429489676513054720, 429489649082314752, 429489638408220672, 429489636746878976, 429489636444884992, 429489636423897090, 429489636386144256, 429489380147740672, 429488933169147904, 429488616197193730, 429488467572056064, 429488175862808576, 429488126608678912, 429487461878992897, 429487155757330432, 429487042423033856, 429486947955146752, 429486365659906048, 429485718771990528, 429485563507654656, 429485059242856448, 429484915839991808, 429484743227625472, 429484226082525184, 429484187171971072, 429483997932949504, 429483743066091521, 429483488165654528, 429482862300397568, 429482630036205568, 429482200552067073, 429482178645606400]\n"
     ]
    }
   ],
   "source": [
    "# Task 6: Data Preprocessing\n",
    "\n",
    "def task6():\n",
    "    tweetIDs = []\n",
    "    with open(\"CrimeReport.txt\", 'r') as file:\n",
    "        for entry in file:\n",
    "            tweet = json.loads(entry)\n",
    "            tweetIDs.append(tweet[\"id\"])\n",
    "    \n",
    "    print(tweetIDs)\n",
    "    \n",
    "# Test\n",
    "task6()"
   ]
  },
  {
   "cell_type": "code",
   "execution_count": 9,
   "id": "599700f5",
   "metadata": {},
   "outputs": [],
   "source": [
    "# Task 7: Data Preprocessing - Tweets Filtering\n",
    "\n",
    "import datetime\n",
    "\n",
    "def task7():\n",
    "    tweets = []\n",
    "    for line in open(\"CrimeReport.txt\").readlines():\n",
    "        tweet = json.loads(line)\n",
    "        tweets.append(tweet)\n",
    "    sorted_tweets = sorted(tweets, key = lambda item: datetime.datetime.strptime(item['created_at'], '%a %b %d %H:%M:%S +0000 %Y'))\n",
    "    f = open('output.txt', 'w')\n",
    "    for tweet in sorted_tweets[0:10]:\n",
    "        f.write(json.dumps(tweet) + '\\n')\n",
    "    f.close()\n",
    "    \n",
    "    \n",
    "# Test\n",
    "task7()"
   ]
  },
  {
   "cell_type": "code",
   "execution_count": 10,
   "id": "43b95789",
   "metadata": {},
   "outputs": [],
   "source": [
    "# Task 8: File Operations\n",
    "\n",
    "def task8():\n",
    "    output_folder = 'task8-output/'\n",
    "    if not os.path.exists(output_folder):\n",
    "            os.makedirs(os.path.dirname(output_folder))\n",
    "\n",
    "    with open(\"CrimeReport.txt\", 'r') as file:\n",
    "        tweets = file.readlines()\n",
    "\n",
    "\n",
    "    grouped_tweets = {}\n",
    "    for tweet in tweets:\n",
    "        curr_tweet = json.loads(tweet)\n",
    "        time = curr_tweet['created_at']\n",
    "        dt = datetime.datetime.strptime(time, '%a %b %d %H:%M:%S +0000 %Y')\n",
    "        hour = dt.strftime('%a-%b-%Y-%H')\n",
    "    \n",
    "\n",
    "        if hour not in grouped_tweets:\n",
    "            grouped_tweets[hour] = []\n",
    "            grouped_tweets[hour].append(tweet)\n",
    "\n",
    "\n",
    "    for hour, tweets in grouped_tweets.items():\n",
    "        file_path = f'{output_folder}{hour}.txt'\n",
    "        with open(file_path, 'w') as output_file:\n",
    "            output_file.writelines(tweets)\n",
    "    \n",
    "# Test\n",
    "task8()"
   ]
  },
  {
   "cell_type": "code",
   "execution_count": null,
   "id": "29ce7287",
   "metadata": {},
   "outputs": [],
   "source": []
  }
 ],
 "metadata": {
  "kernelspec": {
   "display_name": "Python 3 (ipykernel)",
   "language": "python",
   "name": "python3"
  },
  "language_info": {
   "codemirror_mode": {
    "name": "ipython",
    "version": 3
   },
   "file_extension": ".py",
   "mimetype": "text/x-python",
   "name": "python",
   "nbconvert_exporter": "python",
   "pygments_lexer": "ipython3",
   "version": "3.10.9"
  }
 },
 "nbformat": 4,
 "nbformat_minor": 5
}
