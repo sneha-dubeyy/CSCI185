{
 "cells": [
  {
   "cell_type": "code",
   "execution_count": null,
   "id": "e8d429b1",
   "metadata": {},
   "outputs": [],
   "source": [
    "# Sneha Dubey (W1618643)\n",
    "# Dr. Chen\n",
    "# CSCI 185\n",
    "# 27 February 2024\n",
    "# Homework 3 Code"
   ]
  },
  {
   "cell_type": "code",
   "execution_count": null,
   "id": "4ff9ff8d",
   "metadata": {},
   "outputs": [],
   "source": []
  }
 ],
 "metadata": {
  "kernelspec": {
   "display_name": "Python 3 (ipykernel)",
   "language": "python",
   "name": "python3"
  },
  "language_info": {
   "codemirror_mode": {
    "name": "ipython",
    "version": 3
   },
   "file_extension": ".py",
   "mimetype": "text/x-python",
   "name": "python",
   "nbconvert_exporter": "python",
   "pygments_lexer": "ipython3",
   "version": "3.10.9"
  }
 },
 "nbformat": 4,
 "nbformat_minor": 5
}
